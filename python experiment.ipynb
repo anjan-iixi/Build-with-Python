{
 "cells": [
  {
   "cell_type": "markdown",
   "id": "18291a66",
   "metadata": {},
   "source": [
    "**Hide a Credit card no.**"
   ]
  },
  {
   "cell_type": "code",
   "execution_count": 1,
   "id": "1d1a9b9e",
   "metadata": {},
   "outputs": [
    {
     "name": "stdout",
     "output_type": "stream",
     "text": [
      "************8365\n"
     ]
    }
   ],
   "source": [
    "def hide_credit_card(card_num): # Function to mask a credit card number\n",
    "    card_num = str(card_num)\n",
    "    mask_card = \"*\" * (len(card_num) - 4) + card_num[-4:]\n",
    "    return mask_card\n",
    "input_number = input(\"Enter Your Credit Card Number: \")\n",
    "print(hide_credit_card(input_number))"
   ]
  },
  {
   "cell_type": "markdown",
   "id": "dd41ce9f",
   "metadata": {},
   "source": [
    " ---\n",
    " **Caesar Cipher Game with your friend**"
   ]
  },
  {
   "cell_type": "code",
   "execution_count": 2,
   "id": "e2ac27ae",
   "metadata": {},
   "outputs": [
    {
     "name": "stdout",
     "output_type": "stream",
     "text": [
      "Welcome to the Caesar Cipher Game!\n",
      "Encrypted Message: eua ngbk 5 sotazky lux ktzkx znk mujuct\n",
      "Decrypted Message: you have 5 minutes for enter the godown\n"
     ]
    }
   ],
   "source": [
    "#Using Caesar Cipher in a Game\n",
    "def caesar_cipher(text, shift1, mode=\"encrypt\"):\n",
    "    result = \"\"\n",
    "    for char in text:\n",
    "        if char.isalpha():\n",
    "            start1 = ord(\"A\") if char.isupper() else ord(\"a\")\n",
    "           \n",
    "            if mode == \"encrypt\":\n",
    "                new_char = (ord(char) - start1 + shift1) % 26 + start1\n",
    "            else:\n",
    "                new_char = (ord(char) - start1 - shift1) % 26 + start1 # \n",
    "                # for decryption, we subtract the shift value from the character original position \n",
    "            result += chr(new_char)  # Moved outside the if-else block\n",
    "        \n",
    "        else:\n",
    "            result += char\n",
    "\n",
    "    return result\n",
    "\n",
    "def caesar_game():\n",
    "    print(\"Welcome to the Caesar Cipher Game!\")\n",
    "    \n",
    "    org_text = input(\"Your Secret Message: \")\n",
    "    shift1 = int(input(\"Enter the Shift Value(1-26): \"))\n",
    "\n",
    "    # Encrypting the message\n",
    "    encrypted = caesar_cipher(org_text.lower(), shift1) #.lower() is used to convert the text to lo\n",
    "    print(\"Encrypted Message:\", encrypted)\n",
    "\n",
    "    #Ask a friend to decode message\n",
    "    friend_guess = int(input(\"Enter the Shift value to decode: \"))\n",
    "    decrypted = caesar_cipher(encrypted, friend_guess, mode=\"decrypt\")\n",
    "\n",
    "    print(\"Decrypted Message:\", decrypted)\n",
    "\n",
    "caesar_game()"
   ]
  },
  {
   "cell_type": "code",
   "execution_count": null,
   "id": "60f74f1e",
   "metadata": {},
   "outputs": [
    {
     "name": "stdout",
     "output_type": "stream",
     "text": [
      "Requirement already satisfied: speedtest-cli in c:\\users\\anjan\\appdata\\local\\programs\\python\\python313\\lib\\site-packages (2.1.3)\n"
     ]
    }
   ],
   "source": [
    "!pip install speedtest-cli # install speedtest-cli module for internet speed test"
   ]
  },
  {
   "cell_type": "markdown",
   "id": "efc322d2",
   "metadata": {},
   "source": [
    "# **download_speed / 10 ** 6:** \n",
    "\n",
    "This converts the download speed to Mbps. 1 Mbps = 1,000,000 bps, \n",
    "so dividing by 10 ** 6 converts the download speed to Mbps."
   ]
  },
  {
   "cell_type": "code",
   "execution_count": 3,
   "id": "06aea062",
   "metadata": {},
   "outputs": [
    {
     "name": "stdout",
     "output_type": "stream",
     "text": [
      "Download Speed: 35.89 Mbps\n",
      "\n",
      "Upload Speed: 34.72 Mbps\n",
      "Ping: 35.87 ms\n"
     ]
    }
   ],
   "source": [
    "#check internet speed\n",
    "import speedtest as st\n",
    "\n",
    "def Speed_Test():\n",
    "    test = st.Speedtest() #create on instance of speedtest class\n",
    "    download_speed = test.download() #get download speed\n",
    "    download_speed = round(download_speed/ 10 ** 6, 2) #convert to Mbps by dividing by 10^6\n",
    " # round to 2 decimal places   \n",
    "    print(f\"Download Speed: {download_speed} Mbps\")\n",
    "\n",
    "    upload_speed = test.upload() #get upload speed of the internet\n",
    "    upload_speed = round(upload_speed/ 10 ** 6, 2)\n",
    "    print(f\"\\nUpload Speed: {upload_speed} Mbps\")\n",
    "\n",
    "    ping = test.results.ping # get ping in milliseconds\n",
    "    # test.results.ping it means the time it takes \n",
    "    # for a packet of data to travel from your coputer to the \n",
    "    # server and back to your computer \n",
    "    print(f\"Ping: {ping} ms\")\n",
    "\n",
    "Speed_Test()"
   ]
  },
  {
   "cell_type": "code",
   "execution_count": 7,
   "id": "ba494c25",
   "metadata": {},
   "outputs": [
    {
     "name": "stdout",
     "output_type": "stream",
     "text": [
      "Requirement already satisfied: datetime in c:\\users\\anjan\\appdata\\local\\programs\\python\\python313\\lib\\site-packages (5.5)\n",
      "Requirement already satisfied: zope.interface in c:\\users\\anjan\\appdata\\local\\programs\\python\\python313\\lib\\site-packages (from datetime) (7.2)\n",
      "Requirement already satisfied: pytz in c:\\users\\anjan\\appdata\\local\\programs\\python\\python313\\lib\\site-packages (from datetime) (2025.2)\n",
      "Requirement already satisfied: setuptools in c:\\users\\anjan\\appdata\\local\\programs\\python\\python313\\lib\\site-packages (from zope.interface->datetime) (80.9.0)\n",
      "Note: you may need to restart the kernel to use updated packages.\n"
     ]
    }
   ],
   "source": [
    "pip install datetime"
   ]
  },
  {
   "cell_type": "code",
   "execution_count": 6,
   "id": "f6eeaf81",
   "metadata": {},
   "outputs": [
    {
     "name": "stdout",
     "output_type": "stream",
     "text": [
      "Requirement already satisfied: pytz in c:\\users\\anjan\\appdata\\local\\programs\\python\\python313\\lib\\site-packages (2025.2)\n",
      "Note: you may need to restart the kernel to use updated packages.\n"
     ]
    }
   ],
   "source": [
    "pip install pytz"
   ]
  },
  {
   "cell_type": "code",
   "execution_count": 2,
   "id": "0032de7e",
   "metadata": {},
   "outputs": [
    {
     "name": "stdout",
     "output_type": "stream",
     "text": [
      "Local TimeZone:\n",
      " 13/07/2025 - 23:51:13 PM\n",
      "\n",
      "\n",
      "Sydney TimeZone:\n",
      " 14/07/2025 - 04:21:13 AM\n",
      "\n",
      "\n",
      "Madrid TimeZone:\n",
      " 13/07/2025 - 20:21:13 PM\n",
      "\n",
      "\n",
      "New York TimeZone:\n",
      " 13/07/2025 - 14:21:13 PM\n"
     ]
    }
   ],
   "source": [
    "#handling timezone in python\n",
    "from datetime import datetime\n",
    "import pytz  # third-party module\n",
    "\n",
    "# Local time\n",
    "local = datetime.now()\n",
    "print(\"Local TimeZone:\\n\", local.strftime(\"%d/%m/%Y - %H:%M:%S %p\"))\n",
    "print(\"\\n\")\n",
    "# Sydney time\n",
    "tz_Sydney = pytz.timezone(\"Australia/Sydney\")\n",
    "datetime_Sydney = datetime.now(tz_Sydney)\n",
    "print(\"Sydney TimeZone:\\n\", datetime_Sydney.strftime(\"%d/%m/%Y - %H:%M:%S %p\"))\n",
    "print(\"\\n\")\n",
    "# Madrid time\n",
    "tz_Madrid = pytz.timezone(\"Europe/Madrid\")\n",
    "datetime_Sydney = datetime.now(tz_Madrid)\n",
    "print(\"Madrid TimeZone:\\n\", datetime_Sydney.strftime(\"%d/%m/%Y - %H:%M:%S %p\"))\n",
    "print(\"\\n\")\n",
    "# New York time\n",
    "tz_NewYork = pytz.timezone(\"America/New_York\")   #Timezone names should not contain spaces\n",
    "datetime_NewYork = datetime.now(tz_NewYork)\n",
    "print(\"New York TimeZone:\\n\", datetime_NewYork.strftime(\"%d/%m/%Y - %H:%M:%S %p\"))"
   ]
  },
  {
   "cell_type": "code",
   "execution_count": 2,
   "id": "03328b62",
   "metadata": {},
   "outputs": [
    {
     "name": "stdout",
     "output_type": "stream",
     "text": [
      "UTC in Default Format :  2025-07-13 11:27:43.992194+00:00\n",
      "IST in Default Format :  2025-07-13 16:57:43.992503+05:30\n",
      "Date & Time in UTC :  2025:07:13 11:27:43 UTC +0000\n",
      "Date & Time in IST :  2025:07:13 16:57:43 IST +0530\n"
     ]
    }
   ],
   "source": [
    "from datetime import datetime \n",
    "import pytz \n",
    "\n",
    "# get the standard UTC time \n",
    "UTC = pytz.utc \n",
    "\n",
    "# it will get the time zone \n",
    "# of the specified location \n",
    "IST = pytz.timezone('Asia/Kolkata') \n",
    "\n",
    "# print the date and time in \n",
    "# standard format \n",
    "print(\"UTC in Default Format : \", \n",
    "\tdatetime.now(UTC)) \n",
    "\n",
    "print(\"IST in Default Format : \", \n",
    "\tdatetime.now(IST)) \n",
    "\n",
    "# print the date and time in \n",
    "# specified format \n",
    "datetime_utc = datetime.now(UTC) \n",
    "print(\"Date & Time in UTC : \", \n",
    "\tdatetime_utc.strftime('%Y:%m:%d %H:%M:%S %Z %z')) \n",
    "\n",
    "datetime_ist = datetime.now(IST) \n",
    "print(\"Date & Time in IST : \", \n",
    "\tdatetime_ist.strftime('%Y:%m:%d %H:%M:%S %Z %z')) "
   ]
  },
  {
   "cell_type": "markdown",
   "id": "ebf361d3",
   "metadata": {},
   "source": [
    " ---\n",
    " **generate unique ids in Python**"
   ]
  },
  {
   "cell_type": "code",
   "execution_count": 1,
   "id": "cbe49a7f",
   "metadata": {},
   "outputs": [
    {
     "name": "stdout",
     "output_type": "stream",
     "text": [
      "Note: you may need to restart the kernel to use updated packages.\n"
     ]
    },
    {
     "name": "stderr",
     "output_type": "stream",
     "text": [
      "ERROR: Invalid requirement: '#generate': Expected package name at the start of dependency specifier\n",
      "    #generate\n",
      "    ^\n"
     ]
    }
   ],
   "source": [
    "pip install uuid #generate unique id"
   ]
  },
  {
   "cell_type": "code",
   "execution_count": 6,
   "id": "941441e6",
   "metadata": {},
   "outputs": [
    {
     "name": "stdout",
     "output_type": "stream",
     "text": [
      "User 1 ID: 45984311-28c3-4fa5-be04-997779a03bae\n",
      "User 2 ID: aa6826df-d8b5-4ff9-a9d8-117de777c271\n",
      "Are both Ids different? True\n"
     ]
    }
   ],
   "source": [
    "import uuid\n",
    "user_1 = uuid.uuid4() # generate unique user ids\n",
    "user_2 = uuid.uuid4()\n",
    "\n",
    "print(\"User 1 ID:\", user_1)\n",
    "print(\"User 2 ID:\", user_2)\n",
    "print(\"Are both Ids different?\", user_1 != user_2)"
   ]
  },
  {
   "cell_type": "markdown",
   "id": "2268c766",
   "metadata": {},
   "source": [
    " --- \n",
    " **fun with the emoji library in Python**"
   ]
  },
  {
   "cell_type": "code",
   "execution_count": 4,
   "id": "a1216808",
   "metadata": {},
   "outputs": [
    {
     "name": "stdout",
     "output_type": "stream",
     "text": [
      "Collecting emoji\n",
      "  Downloading emoji-2.14.1-py3-none-any.whl.metadata (5.7 kB)\n",
      "Downloading emoji-2.14.1-py3-none-any.whl (590 kB)\n",
      "   ---------------------------------------- 0.0/590.6 kB ? eta -:--:--\n",
      "   ---------------------------------------- 0.0/590.6 kB ? eta -:--:--\n",
      "   ----------------- ---------------------- 262.1/590.6 kB ? eta -:--:--\n",
      "   ----------------- ---------------------- 262.1/590.6 kB ? eta -:--:--\n",
      "   ---------------------------------------- 590.6/590.6 kB 1.2 MB/s eta 0:00:00\n",
      "Installing collected packages: emoji\n",
      "Successfully installed emoji-2.14.1\n",
      "Note: you may need to restart the kernel to use updated packages.\n"
     ]
    }
   ],
   "source": [
    "pip install emoji"
   ]
  },
  {
   "cell_type": "code",
   "execution_count": 7,
   "id": "6acf70a0",
   "metadata": {},
   "outputs": [
    {
     "name": "stdout",
     "output_type": "stream",
     "text": [
      "I love Python 🐍\n",
      "let's code! 💻 🚀 \n",
      "Happy Coding 👍\n",
      "Good job! :thumbs_up:\n"
     ]
    }
   ],
   "source": [
    "import emoji\n",
    "\n",
    "print(emoji.emojize(\"I love Python :snake:\"))\n",
    "print(emoji.emojize(\"let's code! :laptop: :rocket: \"))\n",
    "\n",
    "language = \"Python\"\n",
    "if language == \"Python\":\n",
    "    print(emoji.emojize(\"Happy Coding :thumbs_up:\"))\n",
    "\n",
    "text = emoji.demojize(\"Good job! 👍\")\n",
    "print(text)"
   ]
  },
  {
   "cell_type": "markdown",
   "id": "3691014b",
   "metadata": {},
   "source": [
    " ---\n",
    " **Turn Text into ASCII Art in Python | Fun with pyfiglet**"
   ]
  },
  {
   "cell_type": "code",
   "execution_count": 5,
   "id": "024c27db",
   "metadata": {},
   "outputs": [
    {
     "name": "stdout",
     "output_type": "stream",
     "text": [
      "Collecting pyfiglet\n",
      "  Downloading pyfiglet-1.0.3-py3-none-any.whl.metadata (7.4 kB)\n",
      "Downloading pyfiglet-1.0.3-py3-none-any.whl (1.1 MB)\n",
      "   ---------------------------------------- 0.0/1.1 MB ? eta -:--:--\n",
      "   ------------------- -------------------- 0.5/1.1 MB 4.6 MB/s eta 0:00:01\n",
      "   ---------------------------------------- 1.1/1.1 MB 4.9 MB/s eta 0:00:00\n",
      "Installing collected packages: pyfiglet\n",
      "Successfully installed pyfiglet-1.0.3\n",
      "Note: you may need to restart the kernel to use updated packages.\n"
     ]
    }
   ],
   "source": [
    "pip install pyfiglet "
   ]
  },
  {
   "cell_type": "code",
   "execution_count": 2,
   "id": "fd674b81",
   "metadata": {},
   "outputs": [
    {
     "name": "stdout",
     "output_type": "stream",
     "text": [
      " _   _      _ _         __        __         _     _     _ \n",
      "| | | | ___| | | ___    \\ \\      / /__  _ __| | __| |   | |\n",
      "| |_| |/ _ \\ | |/ _ \\    \\ \\ /\\ / / _ \\| '__| |/ _` |   | |\n",
      "|  _  |  __/ | | (_) |    \\ V  V / (_) | |  | | (_| |_ _|_|\n",
      "|_| |_|\\___|_|_|\\___( )    \\_/\\_/ \\___/|_|  |_|\\__,_(_|_|_)\n",
      "                    |/                                     \n",
      "\n",
      "    ____        __  __                   _         ______            __\n",
      "   / __ \\__  __/ /_/ /_  ____  ____     (_)____   / ____/_  ______  / /\n",
      "  / /_/ / / / / __/ __ \\/ __ \\/ __ \\   / / ___/  / /_  / / / / __ \\/ / \n",
      " / ____/ /_/ / /_/ / / / /_/ / / / /  / (__  )  / __/ / /_/ / / / /_/  \n",
      "/_/    \\__, /\\__/_/ /_/\\____/_/ /_/  /_/____/  /_/    \\__,_/_/ /_(_)   \n",
      "      /____/                                                           \n",
      "\n"
     ]
    }
   ],
   "source": [
    "# turn the text into ASCII art\n",
    "import pyfiglet\n",
    "\n",
    "ascii_art = pyfiglet.figlet_format(\"Hello, World..!\")\n",
    "print(ascii_art)\n",
    "print(pyfiglet.figlet_format(\"Python is Fun!\", font=\"slant\"))"
   ]
  },
  {
   "cell_type": "code",
   "execution_count": 17,
   "id": "d51c1979",
   "metadata": {},
   "outputs": [
    {
     "name": "stdout",
     "output_type": "stream",
     "text": [
      "   __ __                      ____    _             __    __   _    \n",
      "  / // /__ ____  ___  __ __  / __/___(_)__ ___  ___/ /__ / /  (_)__ \n",
      " / _  / _ `/ _ \\/ _ \\/ // / / _// __/ / -_) _ \\/ _  (_-</ _ \\/ / _ \\\n",
      "/_//_/\\_,_/ .__/ .__/\\_, / /_/ /_/ /_/\\__/_//_/\\_,_/___/_//_/_/ .__/\n",
      "         /_/  /_/   /___/                                    /_/    \n",
      "   ___                __\n",
      "  / _ \\___ ___ __    / /\n",
      " / // / _ `/ // / _ /_/ \n",
      "/____/\\_,_/\\_, (_|_|_)  \n",
      "          /___/         \n",
      "\n"
     ]
    }
   ],
   "source": [
    "import pyfiglet # frienship day wish\n",
    "import random\n",
    "\n",
    "def generate_friendship_day_wish():\n",
    "    message = \"Happy Friendship Day..!\"\n",
    "    fonts = pyfiglet.FigletFont.getFonts()\n",
    "    selected_font = random.choice(fonts)\n",
    "    ascii_art = pyfiglet.figlet_format(message, font=selected_font)\n",
    "    return ascii_art\n",
    "\n",
    "#calling the function to generate the wish\n",
    "friendship_day_wish = generate_friendship_day_wish()\n",
    "#printing the wish\n",
    "print(friendship_day_wish)"
   ]
  },
  {
   "cell_type": "markdown",
   "id": "98ce3059",
   "metadata": {},
   "source": [
    " ---\n",
    " **get your system info using python**"
   ]
  },
  {
   "cell_type": "code",
   "execution_count": 3,
   "id": "130d7cdc",
   "metadata": {},
   "outputs": [
    {
     "name": "stdout",
     "output_type": "stream",
     "text": [
      "System: Windows\n",
      "Node Name: LAPTOP-Anjan\n",
      "Release: 11\n",
      "Version: 10.0.26100\n",
      "Machine: AMD64\n",
      "Processor: Intel64 Family 6 Model 186 Stepping 2, GenuineIntel\n",
      "CPU Cores: 16\n"
     ]
    }
   ],
   "source": [
    "import platform\n",
    "import os\n",
    "print(\"System:\", platform.system())\n",
    "print(\"Node Name:\", platform.node())\n",
    "print(\"Release:\", platform.release())\n",
    "print(\"Version:\", platform.version())\n",
    "print(\"Machine:\", platform.machine())\n",
    "print(\"Processor:\", platform.processor())\n",
    "\n",
    "print(\"CPU Cores:\", os.cpu_count())"
   ]
  },
  {
   "cell_type": "markdown",
   "id": "b3c763dc",
   "metadata": {},
   "source": [
    " ---\n",
    " **random password generator**"
   ]
  },
  {
   "cell_type": "code",
   "execution_count": 4,
   "id": "77cb0443",
   "metadata": {},
   "outputs": [
    {
     "name": "stdout",
     "output_type": "stream",
     "text": [
      "Random password of length 10 : b860qFTBul\n"
     ]
    }
   ],
   "source": [
    "import random\n",
    "import string\n",
    "\n",
    "length = 10     #k is the length of the password\n",
    "password = ''.join(random.choices(string.ascii_letters + string.digits, k=length)) \n",
    "print(\"Random password of length\", length, \":\", password)"
   ]
  },
  {
   "cell_type": "markdown",
   "id": "b179e0a2",
   "metadata": {},
   "source": [
    " ---\n",
    " **hide password input in Python**"
   ]
  },
  {
   "cell_type": "code",
   "execution_count": null,
   "id": "357d13ff",
   "metadata": {},
   "outputs": [
    {
     "name": "stdout",
     "output_type": "stream",
     "text": [
      "\n",
      "Logging in...\n",
      "Username: @me_anjan89\n",
      "Password: [hidden for security]\n"
     ]
    }
   ],
   "source": [
    "import getpass\n",
    "\n",
    "user_name = input(\"Enter your username: \")\n",
    "password = getpass.getpass(\"Enter your password: \")\n",
    "\n",
    "print(\"\\nLogging in...\")\n",
    "print(\"Username:\", user_name)\n",
    "print(\"Password: [hidden for security]\") #the password will not be displayed in the console for security reasons "
   ]
  },
  {
   "cell_type": "markdown",
   "id": "224b77e8",
   "metadata": {},
   "source": [
    " ---\n",
    "**currency converter** "
   ]
  },
  {
   "cell_type": "code",
   "execution_count": null,
   "id": "81df09f5",
   "metadata": {},
   "outputs": [],
   "source": [
    "%pip install --upgrade forex-python"
   ]
  },
  {
   "cell_type": "code",
   "execution_count": null,
   "id": "67668d46",
   "metadata": {},
   "outputs": [],
   "source": [
    "from forex_python.converter import CurrencyRates\n",
    "c = CurrencyRates()\n",
    "amount = 1\n",
    "from_currency = \"USD\"\n",
    "to_currency = \"INR\"\n",
    "converted_amount = c.convert(from_currency, to_currency, amount)\n",
    "print(f\"{amount}, {from_currency} is equal to {converted_amount}, {to_currency}\")"
   ]
  },
  {
   "cell_type": "code",
   "execution_count": 8,
   "id": "9d877b50",
   "metadata": {},
   "outputs": [
    {
     "name": "stdout",
     "output_type": "stream",
     "text": [
      "Error: Currency Rates Source Not Ready\n"
     ]
    }
   ],
   "source": [
    "from forex_python.converter import CurrencyRates\n",
    "\n",
    "c = CurrencyRates()\n",
    "try:\n",
    "    # Use a default value for demonstration if input() doesn't work\n",
    "    amount = 10.0  # Change this value as needed\n",
    "    # Or, uncomment the next line if input() works in your notebook:\n",
    "    # amount = float(input(\"Enter the amount in Dollars: \"))\n",
    "    from_currency = \"USD\"\n",
    "    to_currency = \"INR\"\n",
    "    converted_amount = c.convert(from_currency, to_currency, amount)\n",
    "    print(f\"{amount}, {from_currency} is equal to {converted_amount}, {to_currency}\")\n",
    "except Exception as e:\n",
    "    print(\"Error:\", e)"
   ]
  },
  {
   "cell_type": "markdown",
   "id": "7a5e7e6c",
   "metadata": {},
   "source": [
    " ---\n",
    " **Dectect the language using python**"
   ]
  },
  {
   "cell_type": "code",
   "execution_count": 1,
   "id": "63939647",
   "metadata": {},
   "outputs": [
    {
     "name": "stdout",
     "output_type": "stream",
     "text": [
      "Requirement already satisfied: langdetect in c:\\users\\anjan\\appdata\\local\\programs\\python\\python313\\lib\\site-packages (1.0.9)\n",
      "Requirement already satisfied: six in c:\\users\\anjan\\appdata\\roaming\\python\\python313\\site-packages (from langdetect) (1.17.0)\n",
      "Note: you may need to restart the kernel to use updated packages.\n"
     ]
    }
   ],
   "source": [
    "pip install --upgrade langdetect"
   ]
  },
  {
   "cell_type": "code",
   "execution_count": null,
   "id": "f990b2b0",
   "metadata": {},
   "outputs": [],
   "source": [
    "from langdetect import detect, DetectorFactory\n",
    "DetectorFactory.seed = 0 # set seed for reproducibility\n",
    "text = input(\"Enter a sentence to detect: \")\n",
    "detected_language = detect(text)\n",
    "print(f\"The detected language is: {detected_language}\")"
   ]
  },
  {
   "cell_type": "markdown",
   "id": "2d1bc063",
   "metadata": {},
   "source": [
    " ---\n",
    " **Voice Recorder in Python**"
   ]
  },
  {
   "cell_type": "code",
   "execution_count": 1,
   "id": "033395c2",
   "metadata": {},
   "outputs": [
    {
     "name": "stdout",
     "output_type": "stream",
     "text": [
      "Collecting sounddevice\n",
      "  Downloading sounddevice-0.5.2-py3-none-win_amd64.whl.metadata (1.6 kB)\n",
      "Requirement already satisfied: CFFI>=1.0 in c:\\users\\anjan\\appdata\\local\\programs\\python\\python313\\lib\\site-packages (from sounddevice) (1.17.1)\n",
      "Requirement already satisfied: pycparser in c:\\users\\anjan\\appdata\\local\\programs\\python\\python313\\lib\\site-packages (from CFFI>=1.0->sounddevice) (2.22)\n",
      "Downloading sounddevice-0.5.2-py3-none-win_amd64.whl (363 kB)\n",
      "Installing collected packages: sounddevice\n",
      "Successfully installed sounddevice-0.5.2\n",
      "Note: you may need to restart the kernel to use updated packages.\n"
     ]
    }
   ],
   "source": [
    "%pip install --upgrade sounddevice"
   ]
  },
  {
   "cell_type": "code",
   "execution_count": null,
   "id": "411cf644",
   "metadata": {},
   "outputs": [],
   "source": [
    "%pip install --upgrade scipy"
   ]
  },
  {
   "cell_type": "code",
   "execution_count": 2,
   "id": "04b95ead",
   "metadata": {},
   "outputs": [
    {
     "name": "stdout",
     "output_type": "stream",
     "text": [
      "Recording...\n",
      "\n",
      "Recording is done... Please Check you folder to listen recording\n"
     ]
    }
   ],
   "source": [
    "import sounddevice\n",
    "from scipy.io.wavfile import write\n",
    "\n",
    "fs=44100 # sampling frequency\n",
    "# ask to enter the recording time in second\n",
    "second = int(input(\"Enter the Recording Time in Second: \"))\n",
    "print(\"Recording...\\n\") # samplerate is used to determine the number of samples per second\n",
    "record_voice = sounddevice.rec(int(second * fs), samplerate=fs, channels=2)\n",
    "sounddevice.wait()\n",
    "write(\"MyRecording.wav\", fs, record_voice) # save the recording to a wav file\n",
    "print(\"Recording is done... Please Check you folder to listen recording\")"
   ]
  },
  {
   "cell_type": "markdown",
   "id": "01aaca75",
   "metadata": {},
   "source": [
    " ---\n",
    " **convert video files to a Gif Python**"
   ]
  },
  {
   "cell_type": "code",
   "execution_count": 2,
   "id": "eba9e7dc",
   "metadata": {},
   "outputs": [
    {
     "name": "stdout",
     "output_type": "stream",
     "text": [
      "Note: you may need to restart the kernel to use updated packages.\n"
     ]
    },
    {
     "name": "stderr",
     "output_type": "stream",
     "text": [
      "ERROR: Could not find a version that satisfies the requirement moviepy.editor (from versions: none)\n",
      "ERROR: No matching distribution found for moviepy.editor\n"
     ]
    }
   ],
   "source": [
    "%pip install --upgrade moviepy.editor"
   ]
  },
  {
   "cell_type": "code",
   "execution_count": 4,
   "id": "777acd95",
   "metadata": {},
   "outputs": [
    {
     "name": "stdout",
     "output_type": "stream",
     "text": [
      "Collecting editor\n",
      "  Downloading editor-1.6.6-py3-none-any.whl.metadata (2.3 kB)\n",
      "Collecting runs (from editor)\n",
      "  Downloading runs-1.2.2-py3-none-any.whl.metadata (10 kB)\n",
      "Collecting xmod (from editor)\n",
      "  Downloading xmod-1.8.1-py3-none-any.whl.metadata (1.8 kB)\n",
      "Downloading editor-1.6.6-py3-none-any.whl (4.0 kB)\n",
      "Downloading runs-1.2.2-py3-none-any.whl (7.0 kB)\n",
      "Downloading xmod-1.8.1-py3-none-any.whl (4.6 kB)\n",
      "Installing collected packages: xmod, runs, editor\n",
      "\n",
      "   ---------------------------------------- 3/3 [editor]\n",
      "\n",
      "Successfully installed editor-1.6.6 runs-1.2.2 xmod-1.8.1\n",
      "Note: you may need to restart the kernel to use updated packages.\n"
     ]
    }
   ],
   "source": [
    "%pip install --upgrade editor"
   ]
  },
  {
   "cell_type": "code",
   "execution_count": null,
   "id": "312a72f4",
   "metadata": {},
   "outputs": [],
   "source": [
    "from moviepy import VideoFileClip\n",
    "videoClip = VideoFileClip(\"Video.mp4\")\n",
    "videoClip.write_gif(\"Video.gif\")"
   ]
  },
  {
   "cell_type": "markdown",
   "id": "d31b01e1",
   "metadata": {},
   "source": [
    " ---\n",
    " **Python Program: Count Files & Directories**"
   ]
  },
  {
   "cell_type": "code",
   "execution_count": null,
   "id": "29269c16",
   "metadata": {},
   "outputs": [
    {
     "name": "stdout",
     "output_type": "stream",
     "text": [
      "Total Files: 154\n",
      "Total Directories: 85\n"
     ]
    }
   ],
   "source": [
    "import os\n",
    "path = \"c:/Users/ANJAN/Desktop/Anjan VS Code\"\n",
    "\n",
    "file_count = 0\n",
    "dir_count = 0\n",
    "\n",
    "for root, dirs, files in os.walk(path): #os.walk() function is used to iterate over a directory tree\n",
    "    file_count += len(files)\n",
    "    dir_count += len(dirs)\n",
    "\n",
    "print(\"Total Files:\", file_count)\n",
    "print(\"Total Directories:\", dir_count)"
   ]
  },
  {
   "cell_type": "markdown",
   "id": "27bb0cce",
   "metadata": {},
   "source": [
    " ---\n",
    " **get domain name information using Python**"
   ]
  },
  {
   "cell_type": "code",
   "execution_count": null,
   "id": "936c896a",
   "metadata": {},
   "outputs": [
    {
     "name": "stdout",
     "output_type": "stream",
     "text": [
      "Collecting whois\n",
      "  Downloading whois-1.20240129.2-py3-none-any.whl.metadata (1.3 kB)\n",
      "Downloading whois-1.20240129.2-py3-none-any.whl (61 kB)\n",
      "Installing collected packages: whois\n",
      "Successfully installed whois-1.20240129.2\n",
      "Note: you may need to restart the kernel to use updated packages.\n"
     ]
    }
   ],
   "source": [
    "%pip install --upgrade whois"
   ]
  },
  {
   "cell_type": "code",
   "execution_count": null,
   "id": "253580e8",
   "metadata": {},
   "outputs": [],
   "source": [
    "import whois\n",
    "domain = input(\"Enter a domain name:  \")\n",
    "domain_info = whois.whois(domain)\n",
    "for key, value in domain_info.items():\n",
    "    print(key, \":\", value)"
   ]
  },
  {
   "cell_type": "markdown",
   "id": "58426fc0",
   "metadata": {},
   "source": [
    " ---\n",
    " **Coloured output in Python**"
   ]
  },
  {
   "cell_type": "code",
   "execution_count": 17,
   "id": "4c74e44e",
   "metadata": {},
   "outputs": [
    {
     "name": "stdout",
     "output_type": "stream",
     "text": [
      "Requirement already satisfied: colorama in c:\\users\\anjan\\appdata\\roaming\\python\\python313\\site-packages (0.4.6)\n",
      "Note: you may need to restart the kernel to use updated packages.\n"
     ]
    }
   ],
   "source": [
    "%pip install --upgrade colorama"
   ]
  },
  {
   "cell_type": "code",
   "execution_count": null,
   "id": "658541cc",
   "metadata": {},
   "outputs": [
    {
     "name": "stdout",
     "output_type": "stream",
     "text": [
      "\u001b[31mHello, World!\n",
      "\u001b[34mhttps://g.dev/anjan-pyxi\n",
      "\u001b[32mPython is Fun!!\n",
      "\u001b[33mMachine Learning is Beautiful!!\n",
      "\u001b[35mThank You...!!\n",
      "\u001b[96mHave a Nice Codeing Day...!!\n",
      "\u001b[0m\n"
     ]
    }
   ],
   "source": [
    "from colorama import Fore, Style\n",
    "\n",
    "print(Fore.RED + \"Hello, World!\")\n",
    "print(Fore.BLUE + \"https://g.dev/anjan-pyxi\")\n",
    "print(Fore.GREEN + \"Python is Fun!!\")\n",
    "print(Fore.YELLOW + \"Machine Learning is Beautiful!!\")\n",
    "print(Fore.MAGENTA + \"Thank You...!!\")\n",
    "print(Fore.LIGHTCYAN_EX + \"Have a Nice Codeing Day...!!\")\n",
    "\n",
    "print(Style.RESET_ALL)"
   ]
  },
  {
   "cell_type": "markdown",
   "id": "3a99fee6",
   "metadata": {},
   "source": [
    " ---\n",
    " **QR Code using Python**"
   ]
  },
  {
   "cell_type": "code",
   "execution_count": 3,
   "id": "961dba39",
   "metadata": {},
   "outputs": [
    {
     "name": "stdout",
     "output_type": "stream",
     "text": [
      "Collecting qrcode\n",
      "  Downloading qrcode-8.2-py3-none-any.whl.metadata (17 kB)\n",
      "Requirement already satisfied: colorama in c:\\users\\anjan\\appdata\\roaming\\python\\python313\\site-packages (from qrcode) (0.4.6)\n",
      "Downloading qrcode-8.2-py3-none-any.whl (45 kB)\n",
      "Installing collected packages: qrcode\n",
      "Successfully installed qrcode-8.2\n",
      "Note: you may need to restart the kernel to use updated packages.\n"
     ]
    }
   ],
   "source": [
    "%pip install --upgrade qrcode"
   ]
  },
  {
   "cell_type": "code",
   "execution_count": 6,
   "id": "2e523035",
   "metadata": {},
   "outputs": [
    {
     "data": {
      "image/jpeg": "[encoded data removed]",
      "image/png": "[encoded data removed]",
      "text/plain": [
       "<PIL.PngImagePlugin.PngImageFile image mode=RGB size=296x296>"
      ]
     },
     "execution_count": 6,
     "metadata": {},
     "output_type": "execute_result"
    }
   ],
   "source": [
    "import qrcode\n",
    "from PIL import Image\n",
    "\n",
    "data = \"https://g.dev/anjan-pyxi\"\n",
    "qr = qrcode.QRCode(version=3, box_size=8, border=4)\n",
    "qr.add_data(data)\n",
    "qr.make(fit=True)\n",
    "image = qr.make_image(fill = \"balck\", back_color = \"GreenYellow\")\n",
    "\n",
    "image.save(\"qr_code.png\")\n",
    "Image.open(\"qr_code.png\")"
   ]
  },
  {
   "cell_type": "code",
   "execution_count": null,
   "id": "0f43cc8e",
   "metadata": {},
   "outputs": [],
   "source": []
  }
 ],
 "metadata": {
  "kernelspec": {
   "display_name": "Python 3",
   "language": "python",
   "name": "python3"
  },
  "language_info": {
   "codemirror_mode": {
    "name": "ipython",
    "version": 3
   },
   "file_extension": ".py",
   "mimetype": "text/x-python",
   "name": "python",
   "nbconvert_exporter": "python",
   "pygments_lexer": "ipython3",
   "version": "3.13.5"
  }
 },
 "nbformat": 4,
 "nbformat_minor": 5
}
